{
  "nbformat": 4,
  "nbformat_minor": 0,
  "metadata": {
    "colab": {
      "provenance": [],
      "collapsed_sections": [],
      "authorship_tag": "ABX9TyOOiua5qFQbKTVD6+s954yx",
      "include_colab_link": true
    },
    "kernelspec": {
      "name": "python3",
      "display_name": "Python 3"
    },
    "language_info": {
      "name": "python"
    }
  },
  "cells": [
    {
      "cell_type": "markdown",
      "metadata": {
        "id": "view-in-github",
        "colab_type": "text"
      },
      "source": [
        "<a href=\"https://colab.research.google.com/github/GunduSriBhanu/data690_fall2022/blob/main/assignment_02/assignment_02.ipynb\" target=\"_parent\"><img src=\"https://colab.research.google.com/assets/colab-badge.svg\" alt=\"Open In Colab\"/></a>"
      ]
    },
    {
      "cell_type": "markdown",
      "source": [
        "# Assignment 02\n",
        "\n",
        "## Prompt a user to enter 10 integers.\n",
        "#### If the user enters anything other than integers, remind her that only integers are allowed and let her retry.\n",
        "Note: You need to detect if the user makes a mistake and let the user retry without exiting the program. The previously entered valid inputs should be kept and not lost.\n",
        "\n",
        "#### Don't allow the user to enter more than 10 or less than 10 integers."
      ],
      "metadata": {
        "id": "lyyAmSIfLXCP"
      }
    },
    {
      "cell_type": "code",
      "execution_count": null,
      "metadata": {
        "colab": {
          "base_uri": "https://localhost:8080/"
        },
        "id": "CIoMDAhltCzt",
        "outputId": "9aa50a6b-d269-458f-f923-752b8c16398d"
      },
      "outputs": [
        {
          "name": "stdout",
          "output_type": "stream",
          "text": [
            "Enter value:1\n",
            "Enter value:a\n",
            "Enter a valid integer\n",
            "Enter value:2\n",
            "Enter value:3\n",
            "Enter value:4\n",
            "Enter value:5\n",
            "Enter value:6\n",
            "Enter value:7\n",
            "Enter value:8\n",
            "Enter value:9\n",
            "Enter value:10\n"
          ]
        }
      ],
      "source": [
        "#Array is initialized\n",
        "arr = [0]*10\n",
        "i=0\n",
        "# Prompt the user to enter 10 digits\n",
        "while i<10:\n",
        "  try:\n",
        "    x = int(input(\"Enter value:\"))\n",
        "    arr[i] = x\n",
        "  except ValueError:\n",
        "    print(\"Enter a valid integer\")\n",
        "    continue\n",
        "  i=i+1"
      ]
    },
    {
      "cell_type": "markdown",
      "source": [
        "## Display the 10 integers back to the user at the end."
      ],
      "metadata": {
        "id": "qaEp3fqiLr1y"
      }
    },
    {
      "cell_type": "code",
      "source": [
        "#printing the array digits\n",
        "arr"
      ],
      "metadata": {
        "colab": {
          "base_uri": "https://localhost:8080/"
        },
        "id": "sEZfb7sNjgGG",
        "outputId": "a8271919-11cc-48c7-df49-1550c9061fe3"
      },
      "execution_count": null,
      "outputs": [
        {
          "output_type": "execute_result",
          "data": {
            "text/plain": [
              "[1, 2, 3, 4, 5, 6, 7, 8, 9, 10]"
            ]
          },
          "metadata": {},
          "execution_count": 2
        }
      ]
    },
    {
      "cell_type": "code",
      "source": [
        "#printing length of array\n",
        "len(arr)"
      ],
      "metadata": {
        "colab": {
          "base_uri": "https://localhost:8080/"
        },
        "id": "wPcd6wRvjjQH",
        "outputId": "49b2f403-ff94-46ff-c385-6c0cad1928e9"
      },
      "execution_count": null,
      "outputs": [
        {
          "output_type": "execute_result",
          "data": {
            "text/plain": [
              "10"
            ]
          },
          "metadata": {},
          "execution_count": 3
        }
      ]
    },
    {
      "cell_type": "markdown",
      "source": [
        "## Calculate the following statistics from the 10 integers entered and display the results back to the user:\n",
        "\n",
        "### Maximum and Minimum"
      ],
      "metadata": {
        "id": "G_B5z9FfL7x9"
      }
    },
    {
      "cell_type": "code",
      "source": [
        "#printing minimum and maximum values in 10 digits\n",
        "minimum_value = arr[0]\n",
        "maximum_value = arr[0]\n",
        "for j in arr[1:]:\n",
        "  if j < minimum_value: \n",
        "    minimum_value = j\n",
        "  else:\n",
        "    if j > maximum_value: \n",
        "      maximum_value = j\n",
        "\n",
        "print(\"Minimum value in list of integers is :\", minimum_value)\n",
        "print(\"Maximum value in list of integers is :\", maximum_value)"
      ],
      "metadata": {
        "colab": {
          "base_uri": "https://localhost:8080/"
        },
        "id": "buJEuYMWtGyA",
        "outputId": "7fcb01b5-7a15-41c4-f509-e3689a74a868"
      },
      "execution_count": null,
      "outputs": [
        {
          "output_type": "stream",
          "name": "stdout",
          "text": [
            "Minimum value in list of integers is : 1\n",
            "Maximum value in list of integers is : 10\n"
          ]
        }
      ]
    },
    {
      "cell_type": "markdown",
      "source": [
        "### Range"
      ],
      "metadata": {
        "id": "yB-s25iiMGId"
      }
    },
    {
      "cell_type": "code",
      "source": [
        "#printing range for the list of digits\n",
        "range = maximum_value-minimum_value\n",
        "print(\"Range for list of integers is :\", range)"
      ],
      "metadata": {
        "colab": {
          "base_uri": "https://localhost:8080/"
        },
        "id": "s6ve1W5et61S",
        "outputId": "146528ec-9642-43d4-c0c4-c3d909a8f198"
      },
      "execution_count": null,
      "outputs": [
        {
          "output_type": "stream",
          "name": "stdout",
          "text": [
            "Range for list of integers is : 9\n"
          ]
        }
      ]
    },
    {
      "cell_type": "markdown",
      "source": [
        "### Mean"
      ],
      "metadata": {
        "id": "jdOnfVnQMLby"
      }
    },
    {
      "cell_type": "code",
      "source": [
        "#printing mean for the list of digits\n",
        "total =0\n",
        "for dig in arr:\n",
        "  total = total + dig\n",
        "mean = total/len(arr)\n",
        "print(\"Mean value of list of integers is :\", mean)"
      ],
      "metadata": {
        "colab": {
          "base_uri": "https://localhost:8080/"
        },
        "id": "RVYXwxMluGut",
        "outputId": "f54e85ea-82a8-4676-c80b-8353188b5470"
      },
      "execution_count": null,
      "outputs": [
        {
          "output_type": "stream",
          "name": "stdout",
          "text": [
            "Mean value of list of integers is : 5.5\n"
          ]
        }
      ]
    },
    {
      "cell_type": "markdown",
      "source": [
        "### Variance"
      ],
      "metadata": {
        "id": "1pIVBX_wMOMn"
      }
    },
    {
      "cell_type": "code",
      "source": [
        "#printing variance for the list of digits\n",
        "deviation = [(y-mean)**2 for y in arr]\n",
        "\n",
        "variance = 0\n",
        "for val in deviation:\n",
        "  variance = variance + val\n",
        "variance = variance/(len(arr)-1)\n",
        "print(\"Variance value of list of integers is :\",variance)"
      ],
      "metadata": {
        "colab": {
          "base_uri": "https://localhost:8080/"
        },
        "id": "mNPJRoYivtOT",
        "outputId": "c21b9657-5791-48b8-992f-77134ed42efd"
      },
      "execution_count": null,
      "outputs": [
        {
          "output_type": "stream",
          "name": "stdout",
          "text": [
            "Variance value of list of integers is : 9.166666666666666\n"
          ]
        }
      ]
    },
    {
      "cell_type": "markdown",
      "source": [
        "### Standard Deviation"
      ],
      "metadata": {
        "id": "NmGmv-n5MR68"
      }
    },
    {
      "cell_type": "code",
      "source": [
        "#printing standard deviation for the list of digits\n",
        "std_dev = variance**(0.5)\n",
        "print(\"Standard deviation of list of integers is :\",std_dev)\n"
      ],
      "metadata": {
        "colab": {
          "base_uri": "https://localhost:8080/"
        },
        "id": "CRgb0HVuxoBU",
        "outputId": "5a506c5e-e540-4826-cb36-33e1d8bfd7c2"
      },
      "execution_count": null,
      "outputs": [
        {
          "output_type": "stream",
          "name": "stdout",
          "text": [
            "Standard deviation of list of integers is : 3.0276503540974917\n"
          ]
        }
      ]
    }
  ]
}