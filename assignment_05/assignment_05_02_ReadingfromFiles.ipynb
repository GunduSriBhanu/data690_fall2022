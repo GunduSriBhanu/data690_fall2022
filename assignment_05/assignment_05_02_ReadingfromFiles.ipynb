{
  "nbformat": 4,
  "nbformat_minor": 0,
  "metadata": {
    "colab": {
      "provenance": [],
      "authorship_tag": "ABX9TyNWe8xnafVumU9+3/W2Ktrv",
      "include_colab_link": true
    },
    "kernelspec": {
      "name": "python3",
      "display_name": "Python 3"
    },
    "language_info": {
      "name": "python"
    }
  },
  "cells": [
    {
      "cell_type": "markdown",
      "metadata": {
        "id": "view-in-github",
        "colab_type": "text"
      },
      "source": [
        "<a href=\"https://colab.research.google.com/github/GunduSriBhanu/data690_fall2022/blob/main/assignment_05/assignment_05_02_ReadingfromFiles.ipynb\" target=\"_parent\"><img src=\"https://colab.research.google.com/assets/colab-badge.svg\" alt=\"Open In Colab\"/></a>"
      ]
    },
    {
      "cell_type": "markdown",
      "source": [
        "# Reading from Files\n",
        "\n",
        "## Reading from .csv files"
      ],
      "metadata": {
        "id": "s7dYa-cqRSkZ"
      }
    },
    {
      "cell_type": "code",
      "execution_count": 1,
      "metadata": {
        "id": "IL2DzhpH1i65"
      },
      "outputs": [],
      "source": [
        "import pandas as pd\n"
      ]
    },
    {
      "cell_type": "markdown",
      "source": [
        "# The read_csv method\n",
        "The first method we'll learn is read_csv, that let us read comma-separated values (CSV) files and raw text (TXT) files into a DataFrame.\n",
        "\n",
        "The read_csv function is extremely powerful and you can specify a very broad set of parameters at import time that allow us to accurately configure how the data will be read and parsed by specifying the correct structure, enconding and other details. The most common parameters are as follows:\n",
        "\n",
        "# filepath: Path of the file to be read.\n",
        "sep: Character(s) that are used as a field separator in the file.\n",
        "\n",
        "header: Index of the row containing the names of the columns (None if none).\n",
        "\n",
        "index_col: Index of the column or sequence of indexes that should be used as index of rows of the data.\n",
        "\n",
        "names: Sequence containing the names of the columns (used together with header = None).\n",
        "\n",
        "skiprows: Number of rows or sequence of row indexes to ignore in the load.\n",
        "\n",
        "na_values: Sequence of values that, if found in the file, should be treated as NaN.\n",
        "\n",
        "dtype: Dictionary in which the keys will be column names and the values will be types of NumPy to which their content must be converted.\n",
        "\n",
        "parse_dates: Flag that indicates if Python should try to parse data with a format similar to dates as dates. You can enter a list of column names that must be joined for the parsing as a date.\n",
        "\n",
        "date_parser: Function to use to try to parse dates.\n",
        "\n",
        "nrows: Number of rows to read from the beginning of the file.\n",
        "\n",
        "skip_footer: Number of rows to ignore at the end of the file.\n",
        "\n",
        "encoding: Encoding to be expected from the file read.\n",
        "\n",
        "squeeze: Flag that indicates that if the data read only contains one column the \n",
        "result is a Series instead of a DataFrame.\n",
        "\n",
        "thousands: Character to use to detect the thousands separator.\n",
        "\n",
        "decimal: Character to use to detect the decimal separator.\n",
        "\n",
        "skip_blank_lines: Flag that indicates whether blank lines should be ignored."
      ],
      "metadata": {
        "id": "bjmqyef6R7Vo"
      }
    },
    {
      "cell_type": "code",
      "source": [
        "filepath = \"btc-market-price.csv\"\n",
        "with open(filepath, 'r') as reader:\n",
        "    print(reader)"
      ],
      "metadata": {
        "colab": {
          "base_uri": "https://localhost:8080/"
        },
        "id": "7NuNd9pA5Fmp",
        "outputId": "7b028ace-ac43-4384-f28e-cdfba9a0f2a2"
      },
      "execution_count": 2,
      "outputs": [
        {
          "output_type": "stream",
          "name": "stdout",
          "text": [
            "<_io.TextIOWrapper name='btc-market-price.csv' mode='r' encoding='UTF-8'>\n"
          ]
        }
      ]
    },
    {
      "cell_type": "code",
      "source": [
        "with open(filepath, 'r') as reader:\n",
        "    for index, line in enumerate(reader.readlines()):\n",
        "        # read just the first 10 lines\n",
        "        if (index < 10):\n",
        "            print(index, line)"
      ],
      "metadata": {
        "id": "m6YCpRu05TfR",
        "colab": {
          "base_uri": "https://localhost:8080/"
        },
        "outputId": "88bc3868-dd92-4610-d9cb-4a86e2eac267"
      },
      "execution_count": 3,
      "outputs": [
        {
          "output_type": "stream",
          "name": "stdout",
          "text": [
            "0 2/4/17 0:00,1099.169125\n",
            "\n",
            "1 3/4/17 0:00,1141.813\n",
            "\n",
            "2 4/4/17 0:00,?\n",
            "\n",
            "3 5/4/17 0:00,1133.079314\n",
            "\n",
            "4 6/4/17 0:00,-\n",
            "\n",
            "5 7/4/17 0:00,-\n",
            "\n",
            "6 8/4/17 0:00,1181.149838\n",
            "\n",
            "7 9/4/17 0:00,1208.8005\n",
            "\n",
            "8 10/4/17 0:00,1207.744875\n",
            "\n",
            "9 11/4/17 0:00,1226.617038\n",
            "\n"
          ]
        }
      ]
    },
    {
      "cell_type": "code",
      "source": [
        "df = pd.read_csv('btc-market-price.csv')\n",
        "\n",
        "df.head()"
      ],
      "metadata": {
        "colab": {
          "base_uri": "https://localhost:8080/",
          "height": 206
        },
        "id": "irOHEG_ER4fT",
        "outputId": "8dfaea15-ed35-478f-adc6-959ab1c5224f"
      },
      "execution_count": 4,
      "outputs": [
        {
          "output_type": "execute_result",
          "data": {
            "text/plain": [
              "   2/4/17 0:00  1099.169125\n",
              "0  3/4/17 0:00     1141.813\n",
              "1  4/4/17 0:00            ?\n",
              "2  5/4/17 0:00  1133.079314\n",
              "3  6/4/17 0:00            -\n",
              "4  7/4/17 0:00            -"
            ],
            "text/html": [
              "\n",
              "  <div id=\"df-7d12ba25-70b1-48f8-9e96-0f5ed8146086\">\n",
              "    <div class=\"colab-df-container\">\n",
              "      <div>\n",
              "<style scoped>\n",
              "    .dataframe tbody tr th:only-of-type {\n",
              "        vertical-align: middle;\n",
              "    }\n",
              "\n",
              "    .dataframe tbody tr th {\n",
              "        vertical-align: top;\n",
              "    }\n",
              "\n",
              "    .dataframe thead th {\n",
              "        text-align: right;\n",
              "    }\n",
              "</style>\n",
              "<table border=\"1\" class=\"dataframe\">\n",
              "  <thead>\n",
              "    <tr style=\"text-align: right;\">\n",
              "      <th></th>\n",
              "      <th>2/4/17 0:00</th>\n",
              "      <th>1099.169125</th>\n",
              "    </tr>\n",
              "  </thead>\n",
              "  <tbody>\n",
              "    <tr>\n",
              "      <th>0</th>\n",
              "      <td>3/4/17 0:00</td>\n",
              "      <td>1141.813</td>\n",
              "    </tr>\n",
              "    <tr>\n",
              "      <th>1</th>\n",
              "      <td>4/4/17 0:00</td>\n",
              "      <td>?</td>\n",
              "    </tr>\n",
              "    <tr>\n",
              "      <th>2</th>\n",
              "      <td>5/4/17 0:00</td>\n",
              "      <td>1133.079314</td>\n",
              "    </tr>\n",
              "    <tr>\n",
              "      <th>3</th>\n",
              "      <td>6/4/17 0:00</td>\n",
              "      <td>-</td>\n",
              "    </tr>\n",
              "    <tr>\n",
              "      <th>4</th>\n",
              "      <td>7/4/17 0:00</td>\n",
              "      <td>-</td>\n",
              "    </tr>\n",
              "  </tbody>\n",
              "</table>\n",
              "</div>\n",
              "      <button class=\"colab-df-convert\" onclick=\"convertToInteractive('df-7d12ba25-70b1-48f8-9e96-0f5ed8146086')\"\n",
              "              title=\"Convert this dataframe to an interactive table.\"\n",
              "              style=\"display:none;\">\n",
              "        \n",
              "  <svg xmlns=\"http://www.w3.org/2000/svg\" height=\"24px\"viewBox=\"0 0 24 24\"\n",
              "       width=\"24px\">\n",
              "    <path d=\"M0 0h24v24H0V0z\" fill=\"none\"/>\n",
              "    <path d=\"M18.56 5.44l.94 2.06.94-2.06 2.06-.94-2.06-.94-.94-2.06-.94 2.06-2.06.94zm-11 1L8.5 8.5l.94-2.06 2.06-.94-2.06-.94L8.5 2.5l-.94 2.06-2.06.94zm10 10l.94 2.06.94-2.06 2.06-.94-2.06-.94-.94-2.06-.94 2.06-2.06.94z\"/><path d=\"M17.41 7.96l-1.37-1.37c-.4-.4-.92-.59-1.43-.59-.52 0-1.04.2-1.43.59L10.3 9.45l-7.72 7.72c-.78.78-.78 2.05 0 2.83L4 21.41c.39.39.9.59 1.41.59.51 0 1.02-.2 1.41-.59l7.78-7.78 2.81-2.81c.8-.78.8-2.07 0-2.86zM5.41 20L4 18.59l7.72-7.72 1.47 1.35L5.41 20z\"/>\n",
              "  </svg>\n",
              "      </button>\n",
              "      \n",
              "  <style>\n",
              "    .colab-df-container {\n",
              "      display:flex;\n",
              "      flex-wrap:wrap;\n",
              "      gap: 12px;\n",
              "    }\n",
              "\n",
              "    .colab-df-convert {\n",
              "      background-color: #E8F0FE;\n",
              "      border: none;\n",
              "      border-radius: 50%;\n",
              "      cursor: pointer;\n",
              "      display: none;\n",
              "      fill: #1967D2;\n",
              "      height: 32px;\n",
              "      padding: 0 0 0 0;\n",
              "      width: 32px;\n",
              "    }\n",
              "\n",
              "    .colab-df-convert:hover {\n",
              "      background-color: #E2EBFA;\n",
              "      box-shadow: 0px 1px 2px rgba(60, 64, 67, 0.3), 0px 1px 3px 1px rgba(60, 64, 67, 0.15);\n",
              "      fill: #174EA6;\n",
              "    }\n",
              "\n",
              "    [theme=dark] .colab-df-convert {\n",
              "      background-color: #3B4455;\n",
              "      fill: #D2E3FC;\n",
              "    }\n",
              "\n",
              "    [theme=dark] .colab-df-convert:hover {\n",
              "      background-color: #434B5C;\n",
              "      box-shadow: 0px 1px 3px 1px rgba(0, 0, 0, 0.15);\n",
              "      filter: drop-shadow(0px 1px 2px rgba(0, 0, 0, 0.3));\n",
              "      fill: #FFFFFF;\n",
              "    }\n",
              "  </style>\n",
              "\n",
              "      <script>\n",
              "        const buttonEl =\n",
              "          document.querySelector('#df-7d12ba25-70b1-48f8-9e96-0f5ed8146086 button.colab-df-convert');\n",
              "        buttonEl.style.display =\n",
              "          google.colab.kernel.accessAllowed ? 'block' : 'none';\n",
              "\n",
              "        async function convertToInteractive(key) {\n",
              "          const element = document.querySelector('#df-7d12ba25-70b1-48f8-9e96-0f5ed8146086');\n",
              "          const dataTable =\n",
              "            await google.colab.kernel.invokeFunction('convertToInteractive',\n",
              "                                                     [key], {});\n",
              "          if (!dataTable) return;\n",
              "\n",
              "          const docLinkHtml = 'Like what you see? Visit the ' +\n",
              "            '<a target=\"_blank\" href=https://colab.research.google.com/notebooks/data_table.ipynb>data table notebook</a>'\n",
              "            + ' to learn more about interactive tables.';\n",
              "          element.innerHTML = '';\n",
              "          dataTable['output_type'] = 'display_data';\n",
              "          await google.colab.output.renderOutput(dataTable, element);\n",
              "          const docLink = document.createElement('div');\n",
              "          docLink.innerHTML = docLinkHtml;\n",
              "          element.appendChild(docLink);\n",
              "        }\n",
              "      </script>\n",
              "    </div>\n",
              "  </div>\n",
              "  "
            ]
          },
          "metadata": {},
          "execution_count": 4
        }
      ]
    },
    {
      "cell_type": "markdown",
      "source": [
        "# Read from Data Base File"
      ],
      "metadata": {
        "id": "ZjlxG093Snf1"
      }
    },
    {
      "cell_type": "code",
      "source": [
        "!pip install sqlalchemy"
      ],
      "metadata": {
        "colab": {
          "base_uri": "https://localhost:8080/"
        },
        "id": "kjtlrPHCSqem",
        "outputId": "97d571fa-b78d-448b-e587-756c7a318f1f"
      },
      "execution_count": 5,
      "outputs": [
        {
          "output_type": "stream",
          "name": "stdout",
          "text": [
            "Looking in indexes: https://pypi.org/simple, https://us-python.pkg.dev/colab-wheels/public/simple/\n",
            "Requirement already satisfied: sqlalchemy in /usr/local/lib/python3.7/dist-packages (1.4.41)\n",
            "Requirement already satisfied: greenlet!=0.4.17 in /usr/local/lib/python3.7/dist-packages (from sqlalchemy) (1.1.3)\n",
            "Requirement already satisfied: importlib-metadata in /usr/local/lib/python3.7/dist-packages (from sqlalchemy) (4.12.0)\n",
            "Requirement already satisfied: zipp>=0.5 in /usr/local/lib/python3.7/dist-packages (from importlib-metadata->sqlalchemy) (3.8.1)\n",
            "Requirement already satisfied: typing-extensions>=3.6.4 in /usr/local/lib/python3.7/dist-packages (from importlib-metadata->sqlalchemy) (4.1.1)\n"
          ]
        }
      ]
    },
    {
      "cell_type": "markdown",
      "source": [
        "## Read data from SQL database\n",
        "Reading data from SQL relational databases is fairly simple and pandas support a variety of methods to deal with it.\n",
        "\n",
        "We'll start with an example using SQLite, as it's a builtin Python package, and we don't need anything extra installed."
      ],
      "metadata": {
        "id": "mYB8gZpCS6bB"
      }
    },
    {
      "cell_type": "code",
      "source": [
        "import sqlite3"
      ],
      "metadata": {
        "id": "JOZVx8oqS0Gy"
      },
      "execution_count": 6,
      "outputs": []
    },
    {
      "cell_type": "markdown",
      "source": [
        "## In order to work with a SQLite database from Python, we first have to connect to it. We can do that using the connect function, which returns a Connection object."
      ],
      "metadata": {
        "id": "nLNRKBefT6E4"
      }
    },
    {
      "cell_type": "code",
      "source": [
        "conn = sqlite3.connect('chinook.db')"
      ],
      "metadata": {
        "id": "LABnNPNGTx9B"
      },
      "execution_count": 7,
      "outputs": []
    },
    {
      "cell_type": "markdown",
      "source": [
        "## Once we have a Connection object, we can then create a Cursor object. Cursors allow us to execute SQL queries against a database:"
      ],
      "metadata": {
        "id": "0cXFN-O8UQc0"
      }
    },
    {
      "cell_type": "code",
      "source": [
        "cur = conn.cursor()"
      ],
      "metadata": {
        "id": "KwIX86hiUCp-"
      },
      "execution_count": 8,
      "outputs": []
    },
    {
      "cell_type": "markdown",
      "source": [
        "## The Cursor created has a method execute, which will receive SQL parameters to run against the database.\n",
        "\n",
        "The code below will fetch the first 5 rows from the employees table:"
      ],
      "metadata": {
        "id": "DW2k9f1GUOYq"
      }
    },
    {
      "cell_type": "code",
      "source": [
        "cur.execute('SELECT * FROM employees LIMIT 5;')"
      ],
      "metadata": {
        "colab": {
          "base_uri": "https://localhost:8080/"
        },
        "id": "3Fx6by87UJQX",
        "outputId": "f77deee0-8d92-47b5-f032-36e8443d3880"
      },
      "execution_count": 9,
      "outputs": [
        {
          "output_type": "execute_result",
          "data": {
            "text/plain": [
              "<sqlite3.Cursor at 0x7f7af77ec810>"
            ]
          },
          "metadata": {},
          "execution_count": 9
        }
      ]
    },
    {
      "cell_type": "code",
      "source": [
        "results = cur.fetchall()\n",
        "results"
      ],
      "metadata": {
        "colab": {
          "base_uri": "https://localhost:8080/"
        },
        "id": "QOrgWP68UKhK",
        "outputId": "8a2d3201-541b-4d3e-a624-a8ba47dea538"
      },
      "execution_count": 10,
      "outputs": [
        {
          "output_type": "execute_result",
          "data": {
            "text/plain": [
              "[(1,\n",
              "  'Adams',\n",
              "  'Andrew',\n",
              "  'General Manager',\n",
              "  None,\n",
              "  '1962-02-18 00:00:00',\n",
              "  '2002-08-14 00:00:00',\n",
              "  '11120 Jasper Ave NW',\n",
              "  'Edmonton',\n",
              "  'AB',\n",
              "  'Canada',\n",
              "  'T5K 2N1',\n",
              "  '+1 (780) 428-9482',\n",
              "  '+1 (780) 428-3457',\n",
              "  'andrew@chinookcorp.com'),\n",
              " (2,\n",
              "  'Edwards',\n",
              "  'Nancy',\n",
              "  'Sales Manager',\n",
              "  1,\n",
              "  '1958-12-08 00:00:00',\n",
              "  '2002-05-01 00:00:00',\n",
              "  '825 8 Ave SW',\n",
              "  'Calgary',\n",
              "  'AB',\n",
              "  'Canada',\n",
              "  'T2P 2T3',\n",
              "  '+1 (403) 262-3443',\n",
              "  '+1 (403) 262-3322',\n",
              "  'nancy@chinookcorp.com'),\n",
              " (3,\n",
              "  'Peacock',\n",
              "  'Jane',\n",
              "  'Sales Support Agent',\n",
              "  2,\n",
              "  '1973-08-29 00:00:00',\n",
              "  '2002-04-01 00:00:00',\n",
              "  '1111 6 Ave SW',\n",
              "  'Calgary',\n",
              "  'AB',\n",
              "  'Canada',\n",
              "  'T2P 5M5',\n",
              "  '+1 (403) 262-3443',\n",
              "  '+1 (403) 262-6712',\n",
              "  'jane@chinookcorp.com'),\n",
              " (4,\n",
              "  'Park',\n",
              "  'Margaret',\n",
              "  'Sales Support Agent',\n",
              "  2,\n",
              "  '1947-09-19 00:00:00',\n",
              "  '2003-05-03 00:00:00',\n",
              "  '683 10 Street SW',\n",
              "  'Calgary',\n",
              "  'AB',\n",
              "  'Canada',\n",
              "  'T2P 5G3',\n",
              "  '+1 (403) 263-4423',\n",
              "  '+1 (403) 263-4289',\n",
              "  'margaret@chinookcorp.com'),\n",
              " (5,\n",
              "  'Johnson',\n",
              "  'Steve',\n",
              "  'Sales Support Agent',\n",
              "  2,\n",
              "  '1965-03-03 00:00:00',\n",
              "  '2003-10-17 00:00:00',\n",
              "  '7727B 41 Ave',\n",
              "  'Calgary',\n",
              "  'AB',\n",
              "  'Canada',\n",
              "  'T3B 1Y7',\n",
              "  '1 (780) 836-9987',\n",
              "  '1 (780) 836-9543',\n",
              "  'steve@chinookcorp.com')]"
            ]
          },
          "metadata": {},
          "execution_count": 10
        }
      ]
    },
    {
      "cell_type": "markdown",
      "source": [
        "# The results are returned as a list of tuples. Each tuple corresponds to a row in the database that we accessed. Dealing with data this way is painful.\n",
        "\n",
        "We'd need to manually add column headers, and manually parse the data. Luckily, the pandas library has an easier way, which we'll look at in the next section."
      ],
      "metadata": {
        "id": "R1DxBSHwUdjV"
      }
    },
    {
      "cell_type": "code",
      "source": [
        "df = pd.DataFrame(results)\n",
        "df.head()"
      ],
      "metadata": {
        "colab": {
          "base_uri": "https://localhost:8080/",
          "height": 206
        },
        "id": "CYSUkgc-UcvW",
        "outputId": "d394e56e-105b-4157-c2b8-4abc1dbabce9"
      },
      "execution_count": 11,
      "outputs": [
        {
          "output_type": "execute_result",
          "data": {
            "text/plain": [
              "   0        1         2                    3    4                    5   \\\n",
              "0   1    Adams    Andrew      General Manager  NaN  1962-02-18 00:00:00   \n",
              "1   2  Edwards     Nancy        Sales Manager  1.0  1958-12-08 00:00:00   \n",
              "2   3  Peacock      Jane  Sales Support Agent  2.0  1973-08-29 00:00:00   \n",
              "3   4     Park  Margaret  Sales Support Agent  2.0  1947-09-19 00:00:00   \n",
              "4   5  Johnson     Steve  Sales Support Agent  2.0  1965-03-03 00:00:00   \n",
              "\n",
              "                    6                    7         8   9       10       11  \\\n",
              "0  2002-08-14 00:00:00  11120 Jasper Ave NW  Edmonton  AB  Canada  T5K 2N1   \n",
              "1  2002-05-01 00:00:00         825 8 Ave SW   Calgary  AB  Canada  T2P 2T3   \n",
              "2  2002-04-01 00:00:00        1111 6 Ave SW   Calgary  AB  Canada  T2P 5M5   \n",
              "3  2003-05-03 00:00:00     683 10 Street SW   Calgary  AB  Canada  T2P 5G3   \n",
              "4  2003-10-17 00:00:00         7727B 41 Ave   Calgary  AB  Canada  T3B 1Y7   \n",
              "\n",
              "                  12                 13                        14  \n",
              "0  +1 (780) 428-9482  +1 (780) 428-3457    andrew@chinookcorp.com  \n",
              "1  +1 (403) 262-3443  +1 (403) 262-3322     nancy@chinookcorp.com  \n",
              "2  +1 (403) 262-3443  +1 (403) 262-6712      jane@chinookcorp.com  \n",
              "3  +1 (403) 263-4423  +1 (403) 263-4289  margaret@chinookcorp.com  \n",
              "4   1 (780) 836-9987   1 (780) 836-9543     steve@chinookcorp.com  "
            ],
            "text/html": [
              "\n",
              "  <div id=\"df-46768618-dbd9-4a3d-ac85-06234987f23c\">\n",
              "    <div class=\"colab-df-container\">\n",
              "      <div>\n",
              "<style scoped>\n",
              "    .dataframe tbody tr th:only-of-type {\n",
              "        vertical-align: middle;\n",
              "    }\n",
              "\n",
              "    .dataframe tbody tr th {\n",
              "        vertical-align: top;\n",
              "    }\n",
              "\n",
              "    .dataframe thead th {\n",
              "        text-align: right;\n",
              "    }\n",
              "</style>\n",
              "<table border=\"1\" class=\"dataframe\">\n",
              "  <thead>\n",
              "    <tr style=\"text-align: right;\">\n",
              "      <th></th>\n",
              "      <th>0</th>\n",
              "      <th>1</th>\n",
              "      <th>2</th>\n",
              "      <th>3</th>\n",
              "      <th>4</th>\n",
              "      <th>5</th>\n",
              "      <th>6</th>\n",
              "      <th>7</th>\n",
              "      <th>8</th>\n",
              "      <th>9</th>\n",
              "      <th>10</th>\n",
              "      <th>11</th>\n",
              "      <th>12</th>\n",
              "      <th>13</th>\n",
              "      <th>14</th>\n",
              "    </tr>\n",
              "  </thead>\n",
              "  <tbody>\n",
              "    <tr>\n",
              "      <th>0</th>\n",
              "      <td>1</td>\n",
              "      <td>Adams</td>\n",
              "      <td>Andrew</td>\n",
              "      <td>General Manager</td>\n",
              "      <td>NaN</td>\n",
              "      <td>1962-02-18 00:00:00</td>\n",
              "      <td>2002-08-14 00:00:00</td>\n",
              "      <td>11120 Jasper Ave NW</td>\n",
              "      <td>Edmonton</td>\n",
              "      <td>AB</td>\n",
              "      <td>Canada</td>\n",
              "      <td>T5K 2N1</td>\n",
              "      <td>+1 (780) 428-9482</td>\n",
              "      <td>+1 (780) 428-3457</td>\n",
              "      <td>andrew@chinookcorp.com</td>\n",
              "    </tr>\n",
              "    <tr>\n",
              "      <th>1</th>\n",
              "      <td>2</td>\n",
              "      <td>Edwards</td>\n",
              "      <td>Nancy</td>\n",
              "      <td>Sales Manager</td>\n",
              "      <td>1.0</td>\n",
              "      <td>1958-12-08 00:00:00</td>\n",
              "      <td>2002-05-01 00:00:00</td>\n",
              "      <td>825 8 Ave SW</td>\n",
              "      <td>Calgary</td>\n",
              "      <td>AB</td>\n",
              "      <td>Canada</td>\n",
              "      <td>T2P 2T3</td>\n",
              "      <td>+1 (403) 262-3443</td>\n",
              "      <td>+1 (403) 262-3322</td>\n",
              "      <td>nancy@chinookcorp.com</td>\n",
              "    </tr>\n",
              "    <tr>\n",
              "      <th>2</th>\n",
              "      <td>3</td>\n",
              "      <td>Peacock</td>\n",
              "      <td>Jane</td>\n",
              "      <td>Sales Support Agent</td>\n",
              "      <td>2.0</td>\n",
              "      <td>1973-08-29 00:00:00</td>\n",
              "      <td>2002-04-01 00:00:00</td>\n",
              "      <td>1111 6 Ave SW</td>\n",
              "      <td>Calgary</td>\n",
              "      <td>AB</td>\n",
              "      <td>Canada</td>\n",
              "      <td>T2P 5M5</td>\n",
              "      <td>+1 (403) 262-3443</td>\n",
              "      <td>+1 (403) 262-6712</td>\n",
              "      <td>jane@chinookcorp.com</td>\n",
              "    </tr>\n",
              "    <tr>\n",
              "      <th>3</th>\n",
              "      <td>4</td>\n",
              "      <td>Park</td>\n",
              "      <td>Margaret</td>\n",
              "      <td>Sales Support Agent</td>\n",
              "      <td>2.0</td>\n",
              "      <td>1947-09-19 00:00:00</td>\n",
              "      <td>2003-05-03 00:00:00</td>\n",
              "      <td>683 10 Street SW</td>\n",
              "      <td>Calgary</td>\n",
              "      <td>AB</td>\n",
              "      <td>Canada</td>\n",
              "      <td>T2P 5G3</td>\n",
              "      <td>+1 (403) 263-4423</td>\n",
              "      <td>+1 (403) 263-4289</td>\n",
              "      <td>margaret@chinookcorp.com</td>\n",
              "    </tr>\n",
              "    <tr>\n",
              "      <th>4</th>\n",
              "      <td>5</td>\n",
              "      <td>Johnson</td>\n",
              "      <td>Steve</td>\n",
              "      <td>Sales Support Agent</td>\n",
              "      <td>2.0</td>\n",
              "      <td>1965-03-03 00:00:00</td>\n",
              "      <td>2003-10-17 00:00:00</td>\n",
              "      <td>7727B 41 Ave</td>\n",
              "      <td>Calgary</td>\n",
              "      <td>AB</td>\n",
              "      <td>Canada</td>\n",
              "      <td>T3B 1Y7</td>\n",
              "      <td>1 (780) 836-9987</td>\n",
              "      <td>1 (780) 836-9543</td>\n",
              "      <td>steve@chinookcorp.com</td>\n",
              "    </tr>\n",
              "  </tbody>\n",
              "</table>\n",
              "</div>\n",
              "      <button class=\"colab-df-convert\" onclick=\"convertToInteractive('df-46768618-dbd9-4a3d-ac85-06234987f23c')\"\n",
              "              title=\"Convert this dataframe to an interactive table.\"\n",
              "              style=\"display:none;\">\n",
              "        \n",
              "  <svg xmlns=\"http://www.w3.org/2000/svg\" height=\"24px\"viewBox=\"0 0 24 24\"\n",
              "       width=\"24px\">\n",
              "    <path d=\"M0 0h24v24H0V0z\" fill=\"none\"/>\n",
              "    <path d=\"M18.56 5.44l.94 2.06.94-2.06 2.06-.94-2.06-.94-.94-2.06-.94 2.06-2.06.94zm-11 1L8.5 8.5l.94-2.06 2.06-.94-2.06-.94L8.5 2.5l-.94 2.06-2.06.94zm10 10l.94 2.06.94-2.06 2.06-.94-2.06-.94-.94-2.06-.94 2.06-2.06.94z\"/><path d=\"M17.41 7.96l-1.37-1.37c-.4-.4-.92-.59-1.43-.59-.52 0-1.04.2-1.43.59L10.3 9.45l-7.72 7.72c-.78.78-.78 2.05 0 2.83L4 21.41c.39.39.9.59 1.41.59.51 0 1.02-.2 1.41-.59l7.78-7.78 2.81-2.81c.8-.78.8-2.07 0-2.86zM5.41 20L4 18.59l7.72-7.72 1.47 1.35L5.41 20z\"/>\n",
              "  </svg>\n",
              "      </button>\n",
              "      \n",
              "  <style>\n",
              "    .colab-df-container {\n",
              "      display:flex;\n",
              "      flex-wrap:wrap;\n",
              "      gap: 12px;\n",
              "    }\n",
              "\n",
              "    .colab-df-convert {\n",
              "      background-color: #E8F0FE;\n",
              "      border: none;\n",
              "      border-radius: 50%;\n",
              "      cursor: pointer;\n",
              "      display: none;\n",
              "      fill: #1967D2;\n",
              "      height: 32px;\n",
              "      padding: 0 0 0 0;\n",
              "      width: 32px;\n",
              "    }\n",
              "\n",
              "    .colab-df-convert:hover {\n",
              "      background-color: #E2EBFA;\n",
              "      box-shadow: 0px 1px 2px rgba(60, 64, 67, 0.3), 0px 1px 3px 1px rgba(60, 64, 67, 0.15);\n",
              "      fill: #174EA6;\n",
              "    }\n",
              "\n",
              "    [theme=dark] .colab-df-convert {\n",
              "      background-color: #3B4455;\n",
              "      fill: #D2E3FC;\n",
              "    }\n",
              "\n",
              "    [theme=dark] .colab-df-convert:hover {\n",
              "      background-color: #434B5C;\n",
              "      box-shadow: 0px 1px 3px 1px rgba(0, 0, 0, 0.15);\n",
              "      filter: drop-shadow(0px 1px 2px rgba(0, 0, 0, 0.3));\n",
              "      fill: #FFFFFF;\n",
              "    }\n",
              "  </style>\n",
              "\n",
              "      <script>\n",
              "        const buttonEl =\n",
              "          document.querySelector('#df-46768618-dbd9-4a3d-ac85-06234987f23c button.colab-df-convert');\n",
              "        buttonEl.style.display =\n",
              "          google.colab.kernel.accessAllowed ? 'block' : 'none';\n",
              "\n",
              "        async function convertToInteractive(key) {\n",
              "          const element = document.querySelector('#df-46768618-dbd9-4a3d-ac85-06234987f23c');\n",
              "          const dataTable =\n",
              "            await google.colab.kernel.invokeFunction('convertToInteractive',\n",
              "                                                     [key], {});\n",
              "          if (!dataTable) return;\n",
              "\n",
              "          const docLinkHtml = 'Like what you see? Visit the ' +\n",
              "            '<a target=\"_blank\" href=https://colab.research.google.com/notebooks/data_table.ipynb>data table notebook</a>'\n",
              "            + ' to learn more about interactive tables.';\n",
              "          element.innerHTML = '';\n",
              "          dataTable['output_type'] = 'display_data';\n",
              "          await google.colab.output.renderOutput(dataTable, element);\n",
              "          const docLink = document.createElement('div');\n",
              "          docLink.innerHTML = docLinkHtml;\n",
              "          element.appendChild(docLink);\n",
              "        }\n",
              "      </script>\n",
              "    </div>\n",
              "  </div>\n",
              "  "
            ]
          },
          "metadata": {},
          "execution_count": 11
        }
      ]
    },
    {
      "cell_type": "markdown",
      "source": [
        "## Read from JSON Files"
      ],
      "metadata": {
        "id": "E8fzHr8jVHlb"
      }
    },
    {
      "cell_type": "markdown",
      "source": [
        "## The read_json method\n",
        "We'll begin with the read_json method, that let us read simple JSON files into a DataFrame.\n",
        "\n",
        "This read_json method accepts many parameters as we saw on read_csv and read_excel, such as filepath, dtype and encoding.\n",
        "\n",
        "This file contains records of PlayStation games in Europe with its title, price, provider and genre."
      ],
      "metadata": {
        "id": "MCHC4yxGVWvQ"
      }
    },
    {
      "cell_type": "code",
      "source": [
        "!head -n20 games.json"
      ],
      "metadata": {
        "colab": {
          "base_uri": "https://localhost:8080/"
        },
        "id": "ZCu01wuaVGym",
        "outputId": "3a45cf12-bee8-4fc1-dc3a-9ac6ec17d34e"
      },
      "execution_count": 12,
      "outputs": [
        {
          "output_type": "stream",
          "name": "stdout",
          "text": [
            "[\n",
            "    {\n",
            "        \"title\": \"Call of Duty®: WWII + Destiny 2 - Lote\",\n",
            "        \"price\": \"129,99 €\",\n",
            "        \"content_rating_img\": \"https://cdn-a.sonyentertainmentnetwork.com/grc/images/ratings/hd/pegi/18.png\",\n",
            "        \"release_date\": \"Dic 21 2018\",\n",
            "        \"provider\": \"Activision Blizzard Int'l BV\",\n",
            "        \"genre\": \"Shooter\",\n",
            "        \"image\": \"https://store.playstation.com/store/api/chihiro/00_09_000/container/ES/es/999/EP0002-CUSA08633_00-CODWWIIANDD2BASE/1516962740000/image?w=240&h=240&bg_color=000000&opacity=100&_version=00_09_000\"\n",
            "    },\n",
            "    {\n",
            "        \"title\": \"God of War® Digital Deluxe Edition\",\n",
            "        \"price\": \"69,99 €\",\n",
            "        \"content_rating_img\": \"https://cdn-a.sonyentertainmentnetwork.com/grc/images/ratings/hd/pegi/18.png\",\n",
            "        \"release_date\": \"Abr 20 2018\",\n",
            "        \"provider\": \"Sony Interactive Entertainment Europe\",\n",
            "        \"genre\": \"Acción\",\n",
            "        \"image\": \"https://store.playstation.com/store/api/chihiro/00_09_000/container/ES/es/999/EP9000-CUSA07411_00-GOW2018PREORDPSN/1517129711000/image?w=240&h=240&bg_color=000000&opacity=100&_version=00_09_000\"\n",
            "    },\n",
            "    {\n"
          ]
        }
      ]
    },
    {
      "cell_type": "code",
      "source": [
        "games = pd.read_json('games.json')\n",
        "games.head()"
      ],
      "metadata": {
        "colab": {
          "base_uri": "https://localhost:8080/",
          "height": 206
        },
        "id": "b4nKUP83Vlb9",
        "outputId": "021802b4-4eb3-41b4-862e-344421493dac"
      },
      "execution_count": 13,
      "outputs": [
        {
          "output_type": "execute_result",
          "data": {
            "text/plain": [
              "                                    title     price  \\\n",
              "0  Call of Duty®: WWII + Destiny 2 - Lote  129,99 €   \n",
              "1      God of War® Digital Deluxe Edition   69,99 €   \n",
              "2                               Far Cry 5   69,99 €   \n",
              "3                Far Cry 5 Edición Deluxe   79,99 €   \n",
              "4                   Far Cry 5 Edición Oro   89,99 €   \n",
              "\n",
              "                                  content_rating_img release_date  \\\n",
              "0  https://cdn-a.sonyentertainmentnetwork.com/grc...  Dic 21 2018   \n",
              "1  https://cdn-a.sonyentertainmentnetwork.com/grc...  Abr 20 2018   \n",
              "2  https://cdn-a.sonyentertainmentnetwork.com/grc...  Mar 27 2018   \n",
              "3  https://cdn-a.sonyentertainmentnetwork.com/grc...  Mar 27 2018   \n",
              "4  https://cdn-a.sonyentertainmentnetwork.com/grc...  Mar 27 2018   \n",
              "\n",
              "                                provider     genre  \\\n",
              "0           Activision Blizzard Int'l BV   Shooter   \n",
              "1  Sony Interactive Entertainment Europe    Acción   \n",
              "2               UBISOFT ENTERTAINMENT SA  Aventura   \n",
              "3               UBISOFT ENTERTAINMENT SA  Aventura   \n",
              "4               UBISOFT ENTERTAINMENT SA  Aventura   \n",
              "\n",
              "                                               image  \n",
              "0  https://store.playstation.com/store/api/chihir...  \n",
              "1  https://store.playstation.com/store/api/chihir...  \n",
              "2  https://store.playstation.com/store/api/chihir...  \n",
              "3  https://store.playstation.com/store/api/chihir...  \n",
              "4  https://store.playstation.com/store/api/chihir...  "
            ],
            "text/html": [
              "\n",
              "  <div id=\"df-8e46a9f6-95fb-4fb9-b497-e8617adae92e\">\n",
              "    <div class=\"colab-df-container\">\n",
              "      <div>\n",
              "<style scoped>\n",
              "    .dataframe tbody tr th:only-of-type {\n",
              "        vertical-align: middle;\n",
              "    }\n",
              "\n",
              "    .dataframe tbody tr th {\n",
              "        vertical-align: top;\n",
              "    }\n",
              "\n",
              "    .dataframe thead th {\n",
              "        text-align: right;\n",
              "    }\n",
              "</style>\n",
              "<table border=\"1\" class=\"dataframe\">\n",
              "  <thead>\n",
              "    <tr style=\"text-align: right;\">\n",
              "      <th></th>\n",
              "      <th>title</th>\n",
              "      <th>price</th>\n",
              "      <th>content_rating_img</th>\n",
              "      <th>release_date</th>\n",
              "      <th>provider</th>\n",
              "      <th>genre</th>\n",
              "      <th>image</th>\n",
              "    </tr>\n",
              "  </thead>\n",
              "  <tbody>\n",
              "    <tr>\n",
              "      <th>0</th>\n",
              "      <td>Call of Duty®: WWII + Destiny 2 - Lote</td>\n",
              "      <td>129,99 €</td>\n",
              "      <td>https://cdn-a.sonyentertainmentnetwork.com/grc...</td>\n",
              "      <td>Dic 21 2018</td>\n",
              "      <td>Activision Blizzard Int'l BV</td>\n",
              "      <td>Shooter</td>\n",
              "      <td>https://store.playstation.com/store/api/chihir...</td>\n",
              "    </tr>\n",
              "    <tr>\n",
              "      <th>1</th>\n",
              "      <td>God of War® Digital Deluxe Edition</td>\n",
              "      <td>69,99 €</td>\n",
              "      <td>https://cdn-a.sonyentertainmentnetwork.com/grc...</td>\n",
              "      <td>Abr 20 2018</td>\n",
              "      <td>Sony Interactive Entertainment Europe</td>\n",
              "      <td>Acción</td>\n",
              "      <td>https://store.playstation.com/store/api/chihir...</td>\n",
              "    </tr>\n",
              "    <tr>\n",
              "      <th>2</th>\n",
              "      <td>Far Cry 5</td>\n",
              "      <td>69,99 €</td>\n",
              "      <td>https://cdn-a.sonyentertainmentnetwork.com/grc...</td>\n",
              "      <td>Mar 27 2018</td>\n",
              "      <td>UBISOFT ENTERTAINMENT SA</td>\n",
              "      <td>Aventura</td>\n",
              "      <td>https://store.playstation.com/store/api/chihir...</td>\n",
              "    </tr>\n",
              "    <tr>\n",
              "      <th>3</th>\n",
              "      <td>Far Cry 5 Edición Deluxe</td>\n",
              "      <td>79,99 €</td>\n",
              "      <td>https://cdn-a.sonyentertainmentnetwork.com/grc...</td>\n",
              "      <td>Mar 27 2018</td>\n",
              "      <td>UBISOFT ENTERTAINMENT SA</td>\n",
              "      <td>Aventura</td>\n",
              "      <td>https://store.playstation.com/store/api/chihir...</td>\n",
              "    </tr>\n",
              "    <tr>\n",
              "      <th>4</th>\n",
              "      <td>Far Cry 5 Edición Oro</td>\n",
              "      <td>89,99 €</td>\n",
              "      <td>https://cdn-a.sonyentertainmentnetwork.com/grc...</td>\n",
              "      <td>Mar 27 2018</td>\n",
              "      <td>UBISOFT ENTERTAINMENT SA</td>\n",
              "      <td>Aventura</td>\n",
              "      <td>https://store.playstation.com/store/api/chihir...</td>\n",
              "    </tr>\n",
              "  </tbody>\n",
              "</table>\n",
              "</div>\n",
              "      <button class=\"colab-df-convert\" onclick=\"convertToInteractive('df-8e46a9f6-95fb-4fb9-b497-e8617adae92e')\"\n",
              "              title=\"Convert this dataframe to an interactive table.\"\n",
              "              style=\"display:none;\">\n",
              "        \n",
              "  <svg xmlns=\"http://www.w3.org/2000/svg\" height=\"24px\"viewBox=\"0 0 24 24\"\n",
              "       width=\"24px\">\n",
              "    <path d=\"M0 0h24v24H0V0z\" fill=\"none\"/>\n",
              "    <path d=\"M18.56 5.44l.94 2.06.94-2.06 2.06-.94-2.06-.94-.94-2.06-.94 2.06-2.06.94zm-11 1L8.5 8.5l.94-2.06 2.06-.94-2.06-.94L8.5 2.5l-.94 2.06-2.06.94zm10 10l.94 2.06.94-2.06 2.06-.94-2.06-.94-.94-2.06-.94 2.06-2.06.94z\"/><path d=\"M17.41 7.96l-1.37-1.37c-.4-.4-.92-.59-1.43-.59-.52 0-1.04.2-1.43.59L10.3 9.45l-7.72 7.72c-.78.78-.78 2.05 0 2.83L4 21.41c.39.39.9.59 1.41.59.51 0 1.02-.2 1.41-.59l7.78-7.78 2.81-2.81c.8-.78.8-2.07 0-2.86zM5.41 20L4 18.59l7.72-7.72 1.47 1.35L5.41 20z\"/>\n",
              "  </svg>\n",
              "      </button>\n",
              "      \n",
              "  <style>\n",
              "    .colab-df-container {\n",
              "      display:flex;\n",
              "      flex-wrap:wrap;\n",
              "      gap: 12px;\n",
              "    }\n",
              "\n",
              "    .colab-df-convert {\n",
              "      background-color: #E8F0FE;\n",
              "      border: none;\n",
              "      border-radius: 50%;\n",
              "      cursor: pointer;\n",
              "      display: none;\n",
              "      fill: #1967D2;\n",
              "      height: 32px;\n",
              "      padding: 0 0 0 0;\n",
              "      width: 32px;\n",
              "    }\n",
              "\n",
              "    .colab-df-convert:hover {\n",
              "      background-color: #E2EBFA;\n",
              "      box-shadow: 0px 1px 2px rgba(60, 64, 67, 0.3), 0px 1px 3px 1px rgba(60, 64, 67, 0.15);\n",
              "      fill: #174EA6;\n",
              "    }\n",
              "\n",
              "    [theme=dark] .colab-df-convert {\n",
              "      background-color: #3B4455;\n",
              "      fill: #D2E3FC;\n",
              "    }\n",
              "\n",
              "    [theme=dark] .colab-df-convert:hover {\n",
              "      background-color: #434B5C;\n",
              "      box-shadow: 0px 1px 3px 1px rgba(0, 0, 0, 0.15);\n",
              "      filter: drop-shadow(0px 1px 2px rgba(0, 0, 0, 0.3));\n",
              "      fill: #FFFFFF;\n",
              "    }\n",
              "  </style>\n",
              "\n",
              "      <script>\n",
              "        const buttonEl =\n",
              "          document.querySelector('#df-8e46a9f6-95fb-4fb9-b497-e8617adae92e button.colab-df-convert');\n",
              "        buttonEl.style.display =\n",
              "          google.colab.kernel.accessAllowed ? 'block' : 'none';\n",
              "\n",
              "        async function convertToInteractive(key) {\n",
              "          const element = document.querySelector('#df-8e46a9f6-95fb-4fb9-b497-e8617adae92e');\n",
              "          const dataTable =\n",
              "            await google.colab.kernel.invokeFunction('convertToInteractive',\n",
              "                                                     [key], {});\n",
              "          if (!dataTable) return;\n",
              "\n",
              "          const docLinkHtml = 'Like what you see? Visit the ' +\n",
              "            '<a target=\"_blank\" href=https://colab.research.google.com/notebooks/data_table.ipynb>data table notebook</a>'\n",
              "            + ' to learn more about interactive tables.';\n",
              "          element.innerHTML = '';\n",
              "          dataTable['output_type'] = 'display_data';\n",
              "          await google.colab.output.renderOutput(dataTable, element);\n",
              "          const docLink = document.createElement('div');\n",
              "          docLink.innerHTML = docLinkHtml;\n",
              "          element.appendChild(docLink);\n",
              "        }\n",
              "      </script>\n",
              "    </div>\n",
              "  </div>\n",
              "  "
            ]
          },
          "metadata": {},
          "execution_count": 13
        }
      ]
    },
    {
      "cell_type": "markdown",
      "source": [
        "## Nested JSON\n",
        "\n",
        "JSON documents tend not to be so straightforward to read as tables, specially when they have nested structures."
      ],
      "metadata": {
        "id": "_w7Z9H61Vo5w"
      }
    },
    {
      "cell_type": "code",
      "source": [
        "!head -n20 users.json"
      ],
      "metadata": {
        "colab": {
          "base_uri": "https://localhost:8080/"
        },
        "id": "j7KkL0-7VsEB",
        "outputId": "14ff8854-306c-4c0d-ed10-e8673f183ebe"
      },
      "execution_count": 14,
      "outputs": [
        {
          "output_type": "stream",
          "name": "stdout",
          "text": [
            "{\n",
            "  \"info\": [\n",
            "    {\n",
            "      \"id\": 1,\n",
            "      \"name\": \"Leanne Graham\",\n",
            "      \"username\": \"Bret\",\n",
            "      \"email\": \"Sincere@april.biz\",\n",
            "      \"address\": [{\n",
            "        \"street\": \"Kulas Light\",\n",
            "        \"suite\": \"Apt. 556\",\n",
            "        \"city\": \"Gwenborough\",\n",
            "        \"zipcode\": \"92998-3874\",\n",
            "        \"geo\": {\n",
            "          \"lat\": \"-37.3159\",\n",
            "          \"lng\": \"81.1496\"\n",
            "        }\n",
            "      }],\n",
            "      \"phone\": \"1-770-736-8031 x56442\",\n",
            "      \"website\": \"hildegard.org\",\n",
            "      \"company\": {\n"
          ]
        }
      ]
    },
    {
      "cell_type": "code",
      "source": [
        "df = pd.read_json('users.json')\n",
        "df"
      ],
      "metadata": {
        "colab": {
          "base_uri": "https://localhost:8080/",
          "height": 363
        },
        "id": "KW3yZSqQZhh9",
        "outputId": "783d3f28-823a-4851-a459-e027f1f0bd94"
      },
      "execution_count": 15,
      "outputs": [
        {
          "output_type": "execute_result",
          "data": {
            "text/plain": [
              "                                                info\n",
              "0  {'id': 1, 'name': 'Leanne Graham', 'username':...\n",
              "1  {'id': 2, 'name': 'Ervin Howell', 'username': ...\n",
              "2  {'id': 3, 'name': 'Clementine Bauch', 'usernam...\n",
              "3  {'id': 4, 'name': 'Patricia Lebsack', 'usernam...\n",
              "4  {'id': 5, 'name': 'Chelsey Dietrich', 'usernam...\n",
              "5  {'id': 6, 'name': 'Mrs. Dennis Schulist', 'use...\n",
              "6  {'id': 7, 'name': 'Kurtis Weissnat', 'username...\n",
              "7  {'id': 8, 'name': 'Nicholas Runolfsdottir V', ...\n",
              "8  {'id': 9, 'name': 'Glenna Reichert', 'username...\n",
              "9  {'id': 10, 'name': 'Clementina DuBuque', 'user..."
            ],
            "text/html": [
              "\n",
              "  <div id=\"df-d1505ad0-e7e3-4250-860b-de7b75448cff\">\n",
              "    <div class=\"colab-df-container\">\n",
              "      <div>\n",
              "<style scoped>\n",
              "    .dataframe tbody tr th:only-of-type {\n",
              "        vertical-align: middle;\n",
              "    }\n",
              "\n",
              "    .dataframe tbody tr th {\n",
              "        vertical-align: top;\n",
              "    }\n",
              "\n",
              "    .dataframe thead th {\n",
              "        text-align: right;\n",
              "    }\n",
              "</style>\n",
              "<table border=\"1\" class=\"dataframe\">\n",
              "  <thead>\n",
              "    <tr style=\"text-align: right;\">\n",
              "      <th></th>\n",
              "      <th>info</th>\n",
              "    </tr>\n",
              "  </thead>\n",
              "  <tbody>\n",
              "    <tr>\n",
              "      <th>0</th>\n",
              "      <td>{'id': 1, 'name': 'Leanne Graham', 'username':...</td>\n",
              "    </tr>\n",
              "    <tr>\n",
              "      <th>1</th>\n",
              "      <td>{'id': 2, 'name': 'Ervin Howell', 'username': ...</td>\n",
              "    </tr>\n",
              "    <tr>\n",
              "      <th>2</th>\n",
              "      <td>{'id': 3, 'name': 'Clementine Bauch', 'usernam...</td>\n",
              "    </tr>\n",
              "    <tr>\n",
              "      <th>3</th>\n",
              "      <td>{'id': 4, 'name': 'Patricia Lebsack', 'usernam...</td>\n",
              "    </tr>\n",
              "    <tr>\n",
              "      <th>4</th>\n",
              "      <td>{'id': 5, 'name': 'Chelsey Dietrich', 'usernam...</td>\n",
              "    </tr>\n",
              "    <tr>\n",
              "      <th>5</th>\n",
              "      <td>{'id': 6, 'name': 'Mrs. Dennis Schulist', 'use...</td>\n",
              "    </tr>\n",
              "    <tr>\n",
              "      <th>6</th>\n",
              "      <td>{'id': 7, 'name': 'Kurtis Weissnat', 'username...</td>\n",
              "    </tr>\n",
              "    <tr>\n",
              "      <th>7</th>\n",
              "      <td>{'id': 8, 'name': 'Nicholas Runolfsdottir V', ...</td>\n",
              "    </tr>\n",
              "    <tr>\n",
              "      <th>8</th>\n",
              "      <td>{'id': 9, 'name': 'Glenna Reichert', 'username...</td>\n",
              "    </tr>\n",
              "    <tr>\n",
              "      <th>9</th>\n",
              "      <td>{'id': 10, 'name': 'Clementina DuBuque', 'user...</td>\n",
              "    </tr>\n",
              "  </tbody>\n",
              "</table>\n",
              "</div>\n",
              "      <button class=\"colab-df-convert\" onclick=\"convertToInteractive('df-d1505ad0-e7e3-4250-860b-de7b75448cff')\"\n",
              "              title=\"Convert this dataframe to an interactive table.\"\n",
              "              style=\"display:none;\">\n",
              "        \n",
              "  <svg xmlns=\"http://www.w3.org/2000/svg\" height=\"24px\"viewBox=\"0 0 24 24\"\n",
              "       width=\"24px\">\n",
              "    <path d=\"M0 0h24v24H0V0z\" fill=\"none\"/>\n",
              "    <path d=\"M18.56 5.44l.94 2.06.94-2.06 2.06-.94-2.06-.94-.94-2.06-.94 2.06-2.06.94zm-11 1L8.5 8.5l.94-2.06 2.06-.94-2.06-.94L8.5 2.5l-.94 2.06-2.06.94zm10 10l.94 2.06.94-2.06 2.06-.94-2.06-.94-.94-2.06-.94 2.06-2.06.94z\"/><path d=\"M17.41 7.96l-1.37-1.37c-.4-.4-.92-.59-1.43-.59-.52 0-1.04.2-1.43.59L10.3 9.45l-7.72 7.72c-.78.78-.78 2.05 0 2.83L4 21.41c.39.39.9.59 1.41.59.51 0 1.02-.2 1.41-.59l7.78-7.78 2.81-2.81c.8-.78.8-2.07 0-2.86zM5.41 20L4 18.59l7.72-7.72 1.47 1.35L5.41 20z\"/>\n",
              "  </svg>\n",
              "      </button>\n",
              "      \n",
              "  <style>\n",
              "    .colab-df-container {\n",
              "      display:flex;\n",
              "      flex-wrap:wrap;\n",
              "      gap: 12px;\n",
              "    }\n",
              "\n",
              "    .colab-df-convert {\n",
              "      background-color: #E8F0FE;\n",
              "      border: none;\n",
              "      border-radius: 50%;\n",
              "      cursor: pointer;\n",
              "      display: none;\n",
              "      fill: #1967D2;\n",
              "      height: 32px;\n",
              "      padding: 0 0 0 0;\n",
              "      width: 32px;\n",
              "    }\n",
              "\n",
              "    .colab-df-convert:hover {\n",
              "      background-color: #E2EBFA;\n",
              "      box-shadow: 0px 1px 2px rgba(60, 64, 67, 0.3), 0px 1px 3px 1px rgba(60, 64, 67, 0.15);\n",
              "      fill: #174EA6;\n",
              "    }\n",
              "\n",
              "    [theme=dark] .colab-df-convert {\n",
              "      background-color: #3B4455;\n",
              "      fill: #D2E3FC;\n",
              "    }\n",
              "\n",
              "    [theme=dark] .colab-df-convert:hover {\n",
              "      background-color: #434B5C;\n",
              "      box-shadow: 0px 1px 3px 1px rgba(0, 0, 0, 0.15);\n",
              "      filter: drop-shadow(0px 1px 2px rgba(0, 0, 0, 0.3));\n",
              "      fill: #FFFFFF;\n",
              "    }\n",
              "  </style>\n",
              "\n",
              "      <script>\n",
              "        const buttonEl =\n",
              "          document.querySelector('#df-d1505ad0-e7e3-4250-860b-de7b75448cff button.colab-df-convert');\n",
              "        buttonEl.style.display =\n",
              "          google.colab.kernel.accessAllowed ? 'block' : 'none';\n",
              "\n",
              "        async function convertToInteractive(key) {\n",
              "          const element = document.querySelector('#df-d1505ad0-e7e3-4250-860b-de7b75448cff');\n",
              "          const dataTable =\n",
              "            await google.colab.kernel.invokeFunction('convertToInteractive',\n",
              "                                                     [key], {});\n",
              "          if (!dataTable) return;\n",
              "\n",
              "          const docLinkHtml = 'Like what you see? Visit the ' +\n",
              "            '<a target=\"_blank\" href=https://colab.research.google.com/notebooks/data_table.ipynb>data table notebook</a>'\n",
              "            + ' to learn more about interactive tables.';\n",
              "          element.innerHTML = '';\n",
              "          dataTable['output_type'] = 'display_data';\n",
              "          await google.colab.output.renderOutput(dataTable, element);\n",
              "          const docLink = document.createElement('div');\n",
              "          docLink.innerHTML = docLinkHtml;\n",
              "          element.appendChild(docLink);\n",
              "        }\n",
              "      </script>\n",
              "    </div>\n",
              "  </div>\n",
              "  "
            ]
          },
          "metadata": {},
          "execution_count": 15
        }
      ]
    },
    {
      "cell_type": "markdown",
      "source": [
        "This is not the data structure we wanted, so in this cases read_json could not be the best solution.\n",
        "\n",
        "We'll need to use the json Python module to parse our JSON file into a Python Dictionary object, to be able to index that dictionary and select nested data we want.\n",
        "\n",
        "To do that we'll use the json.load() method, that will parse our JSON file into a Python Dictionary json_dict."
      ],
      "metadata": {
        "id": "qOHAZ6mJZt5Y"
      }
    },
    {
      "cell_type": "code",
      "source": [
        "import json\n",
        "\n",
        "with open('users.json') as file:\n",
        "    json_dict = json.load(file)"
      ],
      "metadata": {
        "id": "BXDM9oi-ZnXT"
      },
      "execution_count": 16,
      "outputs": []
    },
    {
      "cell_type": "code",
      "source": [
        "json_dict"
      ],
      "metadata": {
        "colab": {
          "base_uri": "https://localhost:8080/"
        },
        "id": "szo3V56eZyZy",
        "outputId": "dd78d618-6e37-4884-dffa-0f70f73ec0a5"
      },
      "execution_count": 17,
      "outputs": [
        {
          "output_type": "execute_result",
          "data": {
            "text/plain": [
              "{'info': [{'id': 1,\n",
              "   'name': 'Leanne Graham',\n",
              "   'username': 'Bret',\n",
              "   'email': 'Sincere@april.biz',\n",
              "   'address': [{'street': 'Kulas Light',\n",
              "     'suite': 'Apt. 556',\n",
              "     'city': 'Gwenborough',\n",
              "     'zipcode': '92998-3874',\n",
              "     'geo': {'lat': '-37.3159', 'lng': '81.1496'}}],\n",
              "   'phone': '1-770-736-8031 x56442',\n",
              "   'website': 'hildegard.org',\n",
              "   'company': {'name': 'Romaguera-Crona',\n",
              "    'catchPhrase': 'Multi-layered client-server neural-net',\n",
              "    'bs': 'harness real-time e-markets'}},\n",
              "  {'id': 2,\n",
              "   'name': 'Ervin Howell',\n",
              "   'username': 'Antonette',\n",
              "   'email': 'Shanna@melissa.tv',\n",
              "   'address': [{'street': 'Victor Plains',\n",
              "     'suite': 'Suite 879',\n",
              "     'city': 'Wisokyburgh',\n",
              "     'zipcode': '90566-7771',\n",
              "     'geo': {'lat': '-43.9509', 'lng': '-34.4618'}}],\n",
              "   'phone': '010-692-6593 x09125',\n",
              "   'website': 'anastasia.net',\n",
              "   'company': {'name': 'Deckow-Crist',\n",
              "    'catchPhrase': 'Proactive didactic contingency',\n",
              "    'bs': 'synergize scalable supply-chains'}},\n",
              "  {'id': 3,\n",
              "   'name': 'Clementine Bauch',\n",
              "   'username': 'Samantha',\n",
              "   'email': 'Nathan@yesenia.net',\n",
              "   'address': [{'street': 'Douglas Extension',\n",
              "     'suite': 'Suite 847',\n",
              "     'city': 'McKenziehaven',\n",
              "     'zipcode': '59590-4157',\n",
              "     'geo': {'lat': '-68.6102', 'lng': '-47.0653'}}],\n",
              "   'phone': '1-463-123-4447',\n",
              "   'website': 'ramiro.info',\n",
              "   'company': {'name': 'Romaguera-Jacobson',\n",
              "    'catchPhrase': 'Face to face bifurcated interface',\n",
              "    'bs': 'e-enable strategic applications'}},\n",
              "  {'id': 4,\n",
              "   'name': 'Patricia Lebsack',\n",
              "   'username': 'Karianne',\n",
              "   'email': 'Julianne.OConner@kory.org',\n",
              "   'address': [{'street': 'Hoeger Mall',\n",
              "     'suite': 'Apt. 692',\n",
              "     'city': 'South Elvis',\n",
              "     'zipcode': '53919-4257',\n",
              "     'geo': {'lat': '29.4572', 'lng': '-164.2990'}}],\n",
              "   'phone': '493-170-9623 x156',\n",
              "   'website': 'kale.biz',\n",
              "   'company': {'name': 'Robel-Corkery',\n",
              "    'catchPhrase': 'Multi-tiered zero tolerance productivity',\n",
              "    'bs': 'transition cutting-edge web services'}},\n",
              "  {'id': 5,\n",
              "   'name': 'Chelsey Dietrich',\n",
              "   'username': 'Kamren',\n",
              "   'email': 'Lucio_Hettinger@annie.ca',\n",
              "   'address': [{'street': 'Skiles Walks',\n",
              "     'suite': 'Suite 351',\n",
              "     'city': 'Roscoeview',\n",
              "     'zipcode': '33263',\n",
              "     'geo': {'lat': '-31.8129', 'lng': '62.5342'}}],\n",
              "   'phone': '(254)954-1289',\n",
              "   'website': 'demarco.info',\n",
              "   'company': {'name': 'Keebler LLC',\n",
              "    'catchPhrase': 'User-centric fault-tolerant solution',\n",
              "    'bs': 'revolutionize end-to-end systems'}},\n",
              "  {'id': 6,\n",
              "   'name': 'Mrs. Dennis Schulist',\n",
              "   'username': 'Leopoldo_Corkery',\n",
              "   'email': 'Karley_Dach@jasper.info',\n",
              "   'address': [{'street': 'Norberto Crossing',\n",
              "     'suite': 'Apt. 950',\n",
              "     'city': 'South Christy',\n",
              "     'zipcode': '23505-1337',\n",
              "     'geo': {'lat': '-71.4197', 'lng': '71.7478'}}],\n",
              "   'phone': '1-477-935-8478 x6430',\n",
              "   'website': 'ola.org',\n",
              "   'company': {'name': 'Considine-Lockman',\n",
              "    'catchPhrase': 'Synchronised bottom-line interface',\n",
              "    'bs': 'e-enable innovative applications'}},\n",
              "  {'id': 7,\n",
              "   'name': 'Kurtis Weissnat',\n",
              "   'username': 'Elwyn.Skiles',\n",
              "   'email': 'Telly.Hoeger@billy.biz',\n",
              "   'address': [{'street': 'Rex Trail',\n",
              "     'suite': 'Suite 280',\n",
              "     'city': 'Howemouth',\n",
              "     'zipcode': '58804-1099',\n",
              "     'geo': {'lat': '24.8918', 'lng': '21.8984'}}],\n",
              "   'phone': '210.067.6132',\n",
              "   'website': 'elvis.io',\n",
              "   'company': {'name': 'Johns Group',\n",
              "    'catchPhrase': 'Configurable multimedia task-force',\n",
              "    'bs': 'generate enterprise e-tailers'}},\n",
              "  {'id': 8,\n",
              "   'name': 'Nicholas Runolfsdottir V',\n",
              "   'username': 'Maxime_Nienow',\n",
              "   'email': 'Sherwood@rosamond.me',\n",
              "   'address': [{'street': 'Ellsworth Summit',\n",
              "     'suite': 'Suite 729',\n",
              "     'city': 'Aliyaview',\n",
              "     'zipcode': '45169',\n",
              "     'geo': {'lat': '-14.3990', 'lng': '-120.7677'}}],\n",
              "   'phone': '586.493.6943 x140',\n",
              "   'website': 'jacynthe.com',\n",
              "   'company': {'name': 'Abernathy Group',\n",
              "    'catchPhrase': 'Implemented secondary concept',\n",
              "    'bs': 'e-enable extensible e-tailers'}},\n",
              "  {'id': 9,\n",
              "   'name': 'Glenna Reichert',\n",
              "   'username': 'Delphine',\n",
              "   'email': 'Chaim_McDermott@dana.io',\n",
              "   'address': [{'street': 'Dayna Park',\n",
              "     'suite': 'Suite 449',\n",
              "     'city': 'Bartholomebury',\n",
              "     'zipcode': '76495-3109',\n",
              "     'geo': {'lat': '24.6463', 'lng': '-168.8889'}}],\n",
              "   'phone': '(775)976-6794 x41206',\n",
              "   'website': 'conrad.com',\n",
              "   'company': {'name': 'Yost and Sons',\n",
              "    'catchPhrase': 'Switchable contextually-based project',\n",
              "    'bs': 'aggregate real-time technologies'}},\n",
              "  {'id': 10,\n",
              "   'name': 'Clementina DuBuque',\n",
              "   'username': 'Moriah.Stanton',\n",
              "   'email': 'Rey.Padberg@karina.biz',\n",
              "   'address': [{'street': 'Kattie Turnpike',\n",
              "     'suite': 'Suite 198',\n",
              "     'city': 'Lebsackbury',\n",
              "     'zipcode': '31428-2261',\n",
              "     'geo': {'lat': '-38.2386', 'lng': '57.2232'}}],\n",
              "   'phone': '024-648-3804',\n",
              "   'website': 'ambrose.net',\n",
              "   'company': {'name': 'Hoeger LLC',\n",
              "    'catchPhrase': 'Centralized empowering task-force',\n",
              "    'bs': 'target end-to-end models'}}]}"
            ]
          },
          "metadata": {},
          "execution_count": 17
        }
      ]
    }
  ]
}