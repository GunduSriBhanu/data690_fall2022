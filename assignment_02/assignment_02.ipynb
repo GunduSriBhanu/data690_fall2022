{
  "nbformat": 4,
  "nbformat_minor": 0,
  "metadata": {
    "colab": {
      "provenance": [],
      "collapsed_sections": [],
      "authorship_tag": "ABX9TyOCdGQoxI+34COy1C31I2MH",
      "include_colab_link": true
    },
    "kernelspec": {
      "name": "python3",
      "display_name": "Python 3"
    },
    "language_info": {
      "name": "python"
    }
  },
  "cells": [
    {
      "cell_type": "markdown",
      "metadata": {
        "id": "view-in-github",
        "colab_type": "text"
      },
      "source": [
        "<a href=\"https://colab.research.google.com/github/GunduSriBhanu/data690_fall2022/blob/main/assignment_02/assignment_02.ipynb\" target=\"_parent\"><img src=\"https://colab.research.google.com/assets/colab-badge.svg\" alt=\"Open In Colab\"/></a>"
      ]
    },
    {
      "cell_type": "markdown",
      "source": [
        "# Assignment 02\n",
        "\n",
        "## Prompt a user to enter 10 integers.\n",
        "#### If the user enters anything other than integers, remind her that only integers are allowed and let her retry.\n",
        "Note: You need to detect if the user makes a mistake and let the user retry without exiting the program. The previously entered valid inputs should be kept and not lost.\n",
        "\n",
        "#### Don't allow the user to enter more than 10 or less than 10 integers."
      ],
      "metadata": {
        "id": "lyyAmSIfLXCP"
      }
    },
    {
      "cell_type": "code",
      "execution_count": 1,
      "metadata": {
        "colab": {
          "base_uri": "https://localhost:8080/"
        },
        "id": "CIoMDAhltCzt",
        "outputId": "2002c917-b2b3-4d82-8271-0ccab59d99c5"
      },
      "outputs": [
        {
          "name": "stdout",
          "output_type": "stream",
          "text": [
            "Enter value:1\n",
            "Enter value:2\n",
            "Enter value:3\n",
            "Enter value:a\n",
            "Enter a valid integer\n",
            "Enter value:f\n",
            "Enter a valid integer\n",
            "Enter value:dfg\n",
            "Enter a valid integer\n",
            "Enter value:4\n",
            "Enter value:5\n",
            "Enter value:6\n",
            "Enter value:7\n",
            "Enter value:8\n",
            "Enter value:9\n",
            "Enter value:10\n"
          ]
        }
      ],
      "source": [
        "#Array is initialized\n",
        "arr = [0]*10\n",
        "i=0\n",
        "# Prompt the user to enter 10 digits\n",
        "while i<10:\n",
        "  try:\n",
        "    x = int(input(\"Enter value:\"))\n",
        "    arr[i] = x\n",
        "  except ValueError:\n",
        "    print(\"Enter a valid integer\")\n",
        "    continue\n",
        "  i=i+1"
      ]
    },
    {
      "cell_type": "markdown",
      "source": [
        "## Display the 10 integers back to the user at the end."
      ],
      "metadata": {
        "id": "qaEp3fqiLr1y"
      }
    },
    {
      "cell_type": "code",
      "source": [
        "#printing the array digits\n",
        "print(\"Elements in the list of array\",arr)"
      ],
      "metadata": {
        "colab": {
          "base_uri": "https://localhost:8080/"
        },
        "id": "sEZfb7sNjgGG",
        "outputId": "e522ae0c-28c4-4921-dad5-02aa60a8e4ae"
      },
      "execution_count": 2,
      "outputs": [
        {
          "output_type": "stream",
          "name": "stdout",
          "text": [
            "Elements in the list of array [1, 2, 3, 4, 5, 6, 7, 8, 9, 10]\n"
          ]
        }
      ]
    },
    {
      "cell_type": "code",
      "source": [
        "#printing length of array\n",
        "len(arr)"
      ],
      "metadata": {
        "colab": {
          "base_uri": "https://localhost:8080/"
        },
        "id": "wPcd6wRvjjQH",
        "outputId": "3ec68ed8-3548-4eaf-a957-646b6542cf6b"
      },
      "execution_count": 3,
      "outputs": [
        {
          "output_type": "execute_result",
          "data": {
            "text/plain": [
              "10"
            ]
          },
          "metadata": {},
          "execution_count": 3
        }
      ]
    },
    {
      "cell_type": "markdown",
      "source": [
        "## Calculate the following statistics from the 10 integers entered and display the results back to the user:\n",
        "\n",
        "### Maximum and Minimum"
      ],
      "metadata": {
        "id": "G_B5z9FfL7x9"
      }
    },
    {
      "cell_type": "code",
      "source": [
        "#printing minimum and maximum values in 10 digits\n",
        "minimum_value = arr[0]\n",
        "maximum_value = arr[0]\n",
        "for j in arr[1:]:\n",
        "  if j < minimum_value: \n",
        "    minimum_value = j\n",
        "  else:\n",
        "    if j > maximum_value: \n",
        "      maximum_value = j\n",
        "\n",
        "print(\"Minimum value in list of integers is :\", minimum_value)\n",
        "print(\"Maximum value in list of integers is :\", maximum_value)"
      ],
      "metadata": {
        "colab": {
          "base_uri": "https://localhost:8080/"
        },
        "id": "buJEuYMWtGyA",
        "outputId": "6d76f1ca-d98f-48f0-82ad-2f8c29bdf644"
      },
      "execution_count": 4,
      "outputs": [
        {
          "output_type": "stream",
          "name": "stdout",
          "text": [
            "Minimum value in list of integers is : 1\n",
            "Maximum value in list of integers is : 10\n"
          ]
        }
      ]
    },
    {
      "cell_type": "markdown",
      "source": [
        "### Range"
      ],
      "metadata": {
        "id": "yB-s25iiMGId"
      }
    },
    {
      "cell_type": "code",
      "source": [
        "#printing range for the list of digits\n",
        "range = maximum_value-minimum_value\n",
        "print(\"Range for list of integers is :\", range)"
      ],
      "metadata": {
        "colab": {
          "base_uri": "https://localhost:8080/"
        },
        "id": "s6ve1W5et61S",
        "outputId": "2468b457-c65a-4ee9-9081-fef9cbe16a41"
      },
      "execution_count": 5,
      "outputs": [
        {
          "output_type": "stream",
          "name": "stdout",
          "text": [
            "Range for list of integers is : 9\n"
          ]
        }
      ]
    },
    {
      "cell_type": "markdown",
      "source": [
        "### Mean"
      ],
      "metadata": {
        "id": "jdOnfVnQMLby"
      }
    },
    {
      "cell_type": "code",
      "source": [
        "#printing mean for the list of digits\n",
        "total =0\n",
        "for dig in arr:\n",
        "  total = total + dig\n",
        "mean = total/len(arr)\n",
        "print(\"Mean value of list of integers is :\", mean)"
      ],
      "metadata": {
        "colab": {
          "base_uri": "https://localhost:8080/"
        },
        "id": "RVYXwxMluGut",
        "outputId": "f42ca9b9-9422-47ab-8bd9-093043f51cd1"
      },
      "execution_count": 6,
      "outputs": [
        {
          "output_type": "stream",
          "name": "stdout",
          "text": [
            "Mean value of list of integers is : 5.5\n"
          ]
        }
      ]
    },
    {
      "cell_type": "markdown",
      "source": [
        "### Variance"
      ],
      "metadata": {
        "id": "1pIVBX_wMOMn"
      }
    },
    {
      "cell_type": "code",
      "source": [
        "#printing variance for the list of digits\n",
        "deviation = [(y-mean)**2 for y in arr]\n",
        "\n",
        "variance = 0\n",
        "for val in deviation:\n",
        "  variance = variance + val\n",
        "variance = variance/len(arr)\n",
        "print(\"Variance value of list of integers is :\",variance)"
      ],
      "metadata": {
        "colab": {
          "base_uri": "https://localhost:8080/"
        },
        "id": "mNPJRoYivtOT",
        "outputId": "c8bd1e31-395d-45a3-aa5b-18a0d9cb739c"
      },
      "execution_count": 7,
      "outputs": [
        {
          "output_type": "stream",
          "name": "stdout",
          "text": [
            "Variance value of list of integers is : 8.25\n"
          ]
        }
      ]
    },
    {
      "cell_type": "markdown",
      "source": [
        "### Standard Deviation"
      ],
      "metadata": {
        "id": "NmGmv-n5MR68"
      }
    },
    {
      "cell_type": "code",
      "source": [
        "#printing standard deviation for the list of digits\n",
        "std_dev = variance**(0.5)\n",
        "print(\"Standard deviation of list of integers is :\",std_dev)\n"
      ],
      "metadata": {
        "colab": {
          "base_uri": "https://localhost:8080/"
        },
        "id": "CRgb0HVuxoBU",
        "outputId": "b23854a9-9f18-488a-b431-67efad847dd8"
      },
      "execution_count": 8,
      "outputs": [
        {
          "output_type": "stream",
          "name": "stdout",
          "text": [
            "Standard deviation of list of integers is : 2.8722813232690143\n"
          ]
        }
      ]
    }
  ]
}